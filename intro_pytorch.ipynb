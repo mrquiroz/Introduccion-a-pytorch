{
 "cells": [
  {
   "cell_type": "markdown",
   "metadata": {},
   "source": [
    "### Moises Quiroz\n",
    "\n",
    "Notebook como introduccion a pytorch"
   ]
  },
  {
   "cell_type": "code",
   "execution_count": 1,
   "metadata": {},
   "outputs": [],
   "source": [
    "# Importar pytorch\n",
    "import torch\n",
    "import matplotlib.pyplot as plt"
   ]
  },
  {
   "cell_type": "code",
   "execution_count": 2,
   "metadata": {},
   "outputs": [],
   "source": [
    "# Funcion de activacion\n",
    "def activation(x):\n",
    "    # Sigmoide como funcion de activacion\n",
    "    return 1/(1+torch.exp(-x))\n",
    "    "
   ]
  },
  {
   "cell_type": "code",
   "execution_count": 3,
   "metadata": {},
   "outputs": [],
   "source": [
    "# Genarando algo de data\n",
    "torch.manual_seed(7)\n",
    "\n",
    "#Features 5 variables aleatorias, 1 columna 5 filas\n",
    "features = torch.randn((1,5))\n",
    "\n",
    "#Weights, variables random con la misma distribucion\n",
    "\n",
    "weights = torch.randn_like(features)\n",
    "\n",
    "# El bias\n",
    "\n",
    "bias = torch.randn((1,1))"
   ]
  },
  {
   "cell_type": "code",
   "execution_count": 4,
   "metadata": {},
   "outputs": [
    {
     "name": "stdout",
     "output_type": "stream",
     "text": [
      "tensor([[-0.1468,  0.7861,  0.9468, -1.1143,  1.6908]]) tensor([[-0.8948, -0.3556,  1.2324,  0.1382, -1.6822]]) tensor([[0.3177]])\n"
     ]
    }
   ],
   "source": [
    "print(features,weights,bias)"
   ]
  },
  {
   "cell_type": "markdown",
   "metadata": {},
   "source": [
    "Una prediccion simple"
   ]
  },
  {
   "cell_type": "code",
   "execution_count": 5,
   "metadata": {},
   "outputs": [
    {
     "data": {
      "text/plain": [
       "tensor([[0.1595]])"
      ]
     },
     "execution_count": 5,
     "metadata": {},
     "output_type": "execute_result"
    }
   ],
   "source": [
    "def output(features,weights,bias):\n",
    "    return activation(torch.sum(features*weights)+bias) ##torch.mm(features,weights.t())+bias\n",
    "output(features,weights,bias)"
   ]
  },
  {
   "cell_type": "code",
   "execution_count": 6,
   "metadata": {},
   "outputs": [
    {
     "data": {
      "text/plain": [
       "tensor([[-0.8948],\n",
       "        [-0.3556],\n",
       "        [ 1.2324],\n",
       "        [ 0.1382],\n",
       "        [-1.6822]])"
      ]
     },
     "execution_count": 6,
     "metadata": {},
     "output_type": "execute_result"
    }
   ],
   "source": [
    "weights.view(5,1) # Se recomienda usar .view()"
   ]
  },
  {
   "cell_type": "markdown",
   "metadata": {},
   "source": [
    "##### Output para un multilayer"
   ]
  },
  {
   "cell_type": "code",
   "execution_count": 7,
   "metadata": {},
   "outputs": [
    {
     "name": "stdout",
     "output_type": "stream",
     "text": [
      "tensor([[-0.1468,  0.7861,  0.9468]])\n",
      "tensor([[-1.1143,  1.6908],\n",
      "        [-0.8948, -0.3556],\n",
      "        [ 1.2324,  0.1382]]) tensor([[-1.6822],\n",
      "        [ 0.3177]])\n"
     ]
    }
   ],
   "source": [
    "### Generando algo de data\n",
    "torch.manual_seed(7)\n",
    "\n",
    "features= torch.randn((1,3))\n",
    "print(features)\n",
    "\n",
    "#Definiendo las dimensiones de cada layer en la red\n",
    "\n",
    "n_input = features.shape[1]\n",
    "n_hidden = 2\n",
    "n_output = 1\n",
    "\n",
    "#weights por input para hidden layer\n",
    "W1 = torch.randn(n_input,n_hidden)\n",
    "W2 = torch.randn(n_hidden,n_output)\n",
    "\n",
    "print(W1,W2)\n",
    "\n",
    "# y el termino bias para el hidden y el output\n",
    "\n",
    "B1 = torch.randn((1,n_hidden))\n",
    "B2 = torch.randn((1,n_output))"
   ]
  },
  {
   "cell_type": "code",
   "execution_count": 8,
   "metadata": {},
   "outputs": [
    {
     "data": {
      "text/plain": [
       "tensor([[0.3171]])"
      ]
     },
     "execution_count": 8,
     "metadata": {},
     "output_type": "execute_result"
    }
   ],
   "source": [
    "h = activation(torch.mm(features,W1)+B1)\n",
    "output = activation(torch.mm(h,W2)+B2)\n",
    "output # Prediccion"
   ]
  },
  {
   "cell_type": "markdown",
   "metadata": {},
   "source": [
    "##### Numpy"
   ]
  },
  {
   "cell_type": "code",
   "execution_count": 9,
   "metadata": {},
   "outputs": [],
   "source": [
    "import numpy as np"
   ]
  },
  {
   "cell_type": "code",
   "execution_count": 10,
   "metadata": {},
   "outputs": [
    {
     "data": {
      "text/plain": [
       "array([[0.17862309, 0.55795796, 0.3843166 ],\n",
       "       [0.37868964, 0.46437442, 0.83900209],\n",
       "       [0.28552609, 0.27510307, 0.74960895],\n",
       "       [0.61238366, 0.96887876, 0.14867516]])"
      ]
     },
     "execution_count": 10,
     "metadata": {},
     "output_type": "execute_result"
    }
   ],
   "source": [
    "a = np.random.rand(4,3)\n",
    "a"
   ]
  },
  {
   "cell_type": "code",
   "execution_count": 11,
   "metadata": {},
   "outputs": [
    {
     "data": {
      "text/plain": [
       "tensor([[0.1786, 0.5580, 0.3843],\n",
       "        [0.3787, 0.4644, 0.8390],\n",
       "        [0.2855, 0.2751, 0.7496],\n",
       "        [0.6124, 0.9689, 0.1487]], dtype=torch.float64)"
      ]
     },
     "execution_count": 11,
     "metadata": {},
     "output_type": "execute_result"
    }
   ],
   "source": [
    "b = torch.from_numpy(a)\n",
    "b"
   ]
  },
  {
   "cell_type": "code",
   "execution_count": 12,
   "metadata": {},
   "outputs": [
    {
     "data": {
      "text/plain": [
       "array([[0.17862309, 0.55795796, 0.3843166 ],\n",
       "       [0.37868964, 0.46437442, 0.83900209],\n",
       "       [0.28552609, 0.27510307, 0.74960895],\n",
       "       [0.61238366, 0.96887876, 0.14867516]])"
      ]
     },
     "execution_count": 12,
     "metadata": {},
     "output_type": "execute_result"
    }
   ],
   "source": [
    "b.numpy()"
   ]
  },
  {
   "cell_type": "markdown",
   "metadata": {},
   "source": [
    "####  Mnist"
   ]
  },
  {
   "cell_type": "code",
   "execution_count": 13,
   "metadata": {},
   "outputs": [],
   "source": [
    "from torchvision import datasets, transforms\n",
    "\n",
    "\n",
    "#Define una transformacion para normalizar la data \n",
    "transform = transforms.Compose([transforms.ToTensor(),transforms.Normalize((0.5,),(0.5,)),])\n",
    "\n",
    "#Dowload and load the training data\n",
    "\n",
    "trainset = datasets.MNIST('MNIST_data/',download = True,train = True,transform=transform)\n",
    "trainloader = torch.utils.data.DataLoader(trainset,batch_size=64,shuffle=True)"
   ]
  },
  {
   "cell_type": "code",
   "execution_count": 14,
   "metadata": {},
   "outputs": [
    {
     "data": {
      "text/plain": [
       "Dataset MNIST\n",
       "    Number of datapoints: 60000\n",
       "    Root location: MNIST_data/\n",
       "    Split: Train"
      ]
     },
     "execution_count": 14,
     "metadata": {},
     "output_type": "execute_result"
    }
   ],
   "source": [
    "trainset"
   ]
  },
  {
   "cell_type": "code",
   "execution_count": 15,
   "metadata": {},
   "outputs": [],
   "source": [
    "dataiter = iter(trainloader)\n",
    "images, label = dataiter.next()"
   ]
  },
  {
   "cell_type": "code",
   "execution_count": 16,
   "metadata": {},
   "outputs": [
    {
     "data": {
      "text/plain": [
       "torch.Size([64, 1, 28, 28])"
      ]
     },
     "execution_count": 16,
     "metadata": {},
     "output_type": "execute_result"
    }
   ],
   "source": [
    "images.shape"
   ]
  },
  {
   "cell_type": "code",
   "execution_count": 17,
   "metadata": {},
   "outputs": [
    {
     "data": {
      "image/png": "[encoded data removed]",
      "text/plain": [
       "<Figure size 432x288 with 1 Axes>"
      ]
     },
     "metadata": {
      "needs_background": "light"
     },
     "output_type": "display_data"
    }
   ],
   "source": [
    "plt.imshow(images[1].numpy().squeeze(), cmap='Greys_r');"
   ]
  },
  {
   "cell_type": "code",
   "execution_count": 18,
   "metadata": {},
   "outputs": [],
   "source": [
    "Imag = images.view(images.shape[0], -1)"
   ]
  },
  {
   "cell_type": "markdown",
   "metadata": {},
   "source": [
    "Imag"
   ]
  },
  {
   "cell_type": "code",
   "execution_count": 19,
   "metadata": {},
   "outputs": [],
   "source": [
    "n_input = Imag.shape[1]\n",
    "n_hidden = 256\n",
    "n_output = 10"
   ]
  },
  {
   "cell_type": "code",
   "execution_count": 20,
   "metadata": {},
   "outputs": [],
   "source": [
    "W1 = torch.randn(n_input,n_hidden)\n",
    "W2 = torch.randn(n_hidden,n_output)\n",
    "B1 = torch.randn(n_hidden)\n",
    "B2 = torch.randn(n_output)"
   ]
  },
  {
   "cell_type": "code",
   "execution_count": 21,
   "metadata": {},
   "outputs": [],
   "source": [
    "h = activation(torch.mm(Imag,W1)+B1)"
   ]
  },
  {
   "cell_type": "code",
   "execution_count": 22,
   "metadata": {},
   "outputs": [],
   "source": [
    "output = activation(torch.mm(h,W2)+B2)"
   ]
  },
  {
   "cell_type": "code",
   "execution_count": 25,
   "metadata": {},
   "outputs": [
    {
     "data": {
      "text/plain": [
       "tensor([[ 0.6977,  0.4817,  0.7772,  ...,  1.0160,  0.3812,  2.1565],\n",
       "        [ 1.1546,  0.1195,  1.8899,  ...,  0.7064,  4.7487,  0.4544],\n",
       "        [ 0.1213,  1.4656,  0.3479,  ...,  2.5171,  0.1050,  3.8630],\n",
       "        ...,\n",
       "        [ 2.0608,  0.3045,  0.7462,  ...,  1.3487, 30.3469,  1.1908],\n",
       "        [ 1.3371,  1.1689,  0.1964,  ...,  1.3220,  2.7175,  2.2597],\n",
       "        [ 0.7054,  0.4288,  1.5648,  ...,  2.5338,  0.8202,  0.5277]])"
      ]
     },
     "execution_count": 25,
     "metadata": {},
     "output_type": "execute_result"
    }
   ],
   "source": [
    "torch.exp(W1)"
   ]
  },
  {
   "cell_type": "code",
   "execution_count": 34,
   "metadata": {},
   "outputs": [],
   "source": [
    "def softmax(x):\n",
    "    return torch.exp(x)/torch.sum(torch.exp(x),dim =1).view(-1,1)"
   ]
  },
  {
   "cell_type": "code",
   "execution_count": 36,
   "metadata": {},
   "outputs": [
    {
     "data": {
      "text/plain": [
       "tensor([[0.0458, 0.1233, 0.1202, 0.1244, 0.1237, 0.0460, 0.1244, 0.1244, 0.0458,\n",
       "         0.1221],\n",
       "        [0.0698, 0.0587, 0.0736, 0.1417, 0.1593, 0.0611, 0.1593, 0.1593, 0.0586,\n",
       "         0.0586],\n",
       "        [0.0512, 0.1349, 0.0743, 0.1388, 0.1385, 0.0859, 0.0839, 0.1388, 0.0511,\n",
       "         0.1026],\n",
       "        [0.0486, 0.0711, 0.1316, 0.1317, 0.1317, 0.0530, 0.1317, 0.1317, 0.0484,\n",
       "         0.1206],\n",
       "        [0.0617, 0.1262, 0.1284, 0.1234, 0.1285, 0.0473, 0.1284, 0.1282, 0.0473,\n",
       "         0.0808],\n",
       "        [0.0517, 0.1406, 0.0724, 0.1395, 0.1404, 0.0518, 0.1392, 0.1406, 0.0517,\n",
       "         0.0721],\n",
       "        [0.0474, 0.1247, 0.1285, 0.1254, 0.1287, 0.0473, 0.1275, 0.1287, 0.0473,\n",
       "         0.0946],\n",
       "        [0.0516, 0.0569, 0.1242, 0.1379, 0.1342, 0.1186, 0.1372, 0.1379, 0.0507,\n",
       "         0.0508],\n",
       "        [0.0550, 0.1421, 0.0759, 0.1436, 0.1423, 0.0528, 0.1379, 0.1430, 0.0528,\n",
       "         0.0545],\n",
       "        [0.0568, 0.0568, 0.0571, 0.1538, 0.1541, 0.0568, 0.1055, 0.1541, 0.0567,\n",
       "         0.1484],\n",
       "        [0.0519, 0.1409, 0.1376, 0.0753, 0.1410, 0.0680, 0.1409, 0.1406, 0.0519,\n",
       "         0.0519],\n",
       "        [0.0558, 0.1399, 0.1106, 0.1460, 0.1459, 0.0539, 0.0944, 0.1460, 0.0537,\n",
       "         0.0538],\n",
       "        [0.0504, 0.1219, 0.1320, 0.1331, 0.0794, 0.0533, 0.1160, 0.1331, 0.0489,\n",
       "         0.1320],\n",
       "        [0.0480, 0.1294, 0.1238, 0.1297, 0.1298, 0.1297, 0.0773, 0.1298, 0.0477,\n",
       "         0.0548],\n",
       "        [0.0540, 0.1466, 0.1368, 0.0611, 0.1466, 0.0540, 0.1446, 0.1467, 0.0540,\n",
       "         0.0557],\n",
       "        [0.0514, 0.1235, 0.1345, 0.1327, 0.1285, 0.0613, 0.1345, 0.1344, 0.0495,\n",
       "         0.0497],\n",
       "        [0.0491, 0.0697, 0.1323, 0.1334, 0.1333, 0.0505, 0.1315, 0.1334, 0.0491,\n",
       "         0.1177],\n",
       "        [0.0628, 0.1545, 0.1544, 0.0572, 0.1549, 0.0570, 0.1548, 0.0905, 0.0570,\n",
       "         0.0570],\n",
       "        [0.0465, 0.1263, 0.1263, 0.1263, 0.1263, 0.0475, 0.1263, 0.1263, 0.0465,\n",
       "         0.1019],\n",
       "        [0.0663, 0.1435, 0.0530, 0.1435, 0.0577, 0.0529, 0.1434, 0.1435, 0.0528,\n",
       "         0.1435],\n",
       "        [0.0460, 0.1171, 0.1246, 0.1243, 0.1249, 0.0460, 0.1245, 0.1249, 0.0459,\n",
       "         0.1219],\n",
       "        [0.0482, 0.1308, 0.0749, 0.1308, 0.0567, 0.1182, 0.1305, 0.1308, 0.0481,\n",
       "         0.1308],\n",
       "        [0.0518, 0.0872, 0.1394, 0.1394, 0.1394, 0.0513, 0.0802, 0.1394, 0.0513,\n",
       "         0.1207],\n",
       "        [0.0488, 0.1245, 0.1326, 0.1326, 0.0584, 0.0574, 0.1326, 0.1324, 0.0488,\n",
       "         0.1319],\n",
       "        [0.0491, 0.1285, 0.1328, 0.1225, 0.1272, 0.0748, 0.1333, 0.1334, 0.0491,\n",
       "         0.0493],\n",
       "        [0.0481, 0.1280, 0.1306, 0.1297, 0.1308, 0.0481, 0.1299, 0.1308, 0.0481,\n",
       "         0.0758],\n",
       "        [0.0460, 0.1211, 0.1237, 0.1242, 0.1242, 0.0492, 0.1218, 0.1243, 0.0457,\n",
       "         0.1197],\n",
       "        [0.0456, 0.1237, 0.1238, 0.1238, 0.1102, 0.1237, 0.1237, 0.1238, 0.0455,\n",
       "         0.0561],\n",
       "        [0.0430, 0.1169, 0.1168, 0.1170, 0.1160, 0.1140, 0.0993, 0.1170, 0.0430,\n",
       "         0.1169],\n",
       "        [0.0493, 0.0952, 0.0991, 0.1232, 0.1340, 0.0497, 0.1322, 0.1340, 0.0493,\n",
       "         0.1339],\n",
       "        [0.0492, 0.0500, 0.1337, 0.1337, 0.1336, 0.0498, 0.1337, 0.1337, 0.0492,\n",
       "         0.1334],\n",
       "        [0.0589, 0.0706, 0.1544, 0.1437, 0.0886, 0.0591, 0.1549, 0.1549, 0.0570,\n",
       "         0.0580],\n",
       "        [0.0620, 0.0555, 0.0737, 0.1452, 0.0535, 0.1296, 0.1380, 0.1448, 0.0534,\n",
       "         0.1444],\n",
       "        [0.0494, 0.1337, 0.1336, 0.0598, 0.1334, 0.0503, 0.1312, 0.1337, 0.0492,\n",
       "         0.1258],\n",
       "        [0.0456, 0.1240, 0.1240, 0.1237, 0.1227, 0.0456, 0.1232, 0.1241, 0.0456,\n",
       "         0.1214],\n",
       "        [0.0522, 0.0522, 0.1391, 0.1418, 0.1229, 0.0527, 0.1032, 0.1419, 0.0522,\n",
       "         0.1418],\n",
       "        [0.0561, 0.1310, 0.1310, 0.1310, 0.1309, 0.0482, 0.1310, 0.1309, 0.0482,\n",
       "         0.0616],\n",
       "        [0.0553, 0.0650, 0.0618, 0.1501, 0.1502, 0.0553, 0.1079, 0.1502, 0.0553,\n",
       "         0.1489],\n",
       "        [0.0859, 0.0993, 0.1100, 0.1112, 0.1111, 0.1097, 0.1110, 0.1111, 0.0409,\n",
       "         0.1099],\n",
       "        [0.0595, 0.1034, 0.0597, 0.1519, 0.1527, 0.0562, 0.1459, 0.1527, 0.0562,\n",
       "         0.0618],\n",
       "        [0.0459, 0.0942, 0.1239, 0.1244, 0.1246, 0.0767, 0.1246, 0.1246, 0.0458,\n",
       "         0.1153],\n",
       "        [0.0458, 0.1148, 0.1214, 0.1228, 0.1196, 0.0706, 0.1152, 0.1228, 0.0452,\n",
       "         0.1219],\n",
       "        [0.0536, 0.1450, 0.0567, 0.1452, 0.1410, 0.0553, 0.1456, 0.1456, 0.0536,\n",
       "         0.0584],\n",
       "        [0.0502, 0.1364, 0.0999, 0.1364, 0.1173, 0.0718, 0.0651, 0.1364, 0.0502,\n",
       "         0.1363],\n",
       "        [0.0535, 0.1453, 0.0564, 0.1453, 0.1447, 0.0542, 0.0564, 0.1453, 0.0535,\n",
       "         0.1453],\n",
       "        [0.0548, 0.1489, 0.0548, 0.1488, 0.1204, 0.0588, 0.1477, 0.1483, 0.0548,\n",
       "         0.0629],\n",
       "        [0.0456, 0.1235, 0.1224, 0.1238, 0.1238, 0.0456, 0.1234, 0.1238, 0.0456,\n",
       "         0.1225],\n",
       "        [0.0498, 0.1282, 0.1337, 0.1354, 0.1353, 0.0499, 0.1282, 0.1354, 0.0498,\n",
       "         0.0543],\n",
       "        [0.0529, 0.0518, 0.1311, 0.1380, 0.1380, 0.0529, 0.1373, 0.1380, 0.0508,\n",
       "         0.1092],\n",
       "        [0.0503, 0.1368, 0.1251, 0.1351, 0.1367, 0.0503, 0.1278, 0.1368, 0.0503,\n",
       "         0.0507],\n",
       "        [0.0493, 0.0494, 0.1338, 0.1339, 0.1335, 0.0494, 0.1338, 0.1339, 0.0493,\n",
       "         0.1337],\n",
       "        [0.0559, 0.1004, 0.0995, 0.1358, 0.1420, 0.0781, 0.1413, 0.1403, 0.0523,\n",
       "         0.0545],\n",
       "        [0.0520, 0.1398, 0.1372, 0.0593, 0.1373, 0.0754, 0.1407, 0.1406, 0.0518,\n",
       "         0.0659],\n",
       "        [0.1058, 0.1348, 0.1047, 0.1346, 0.0963, 0.0557, 0.1340, 0.1348, 0.0496,\n",
       "         0.0496],\n",
       "        [0.0457, 0.1236, 0.1236, 0.1235, 0.1242, 0.0459, 0.1242, 0.1240, 0.0457,\n",
       "         0.1196],\n",
       "        [0.0494, 0.0500, 0.1316, 0.1342, 0.1340, 0.0494, 0.1342, 0.1342, 0.0494,\n",
       "         0.1336],\n",
       "        [0.0927, 0.0611, 0.1319, 0.1321, 0.1320, 0.0486, 0.1321, 0.1320, 0.0486,\n",
       "         0.0889],\n",
       "        [0.0507, 0.1323, 0.1358, 0.1313, 0.1341, 0.0519, 0.1282, 0.1358, 0.0500,\n",
       "         0.0500],\n",
       "        [0.0510, 0.0568, 0.1346, 0.1368, 0.1212, 0.1359, 0.1212, 0.1370, 0.0504,\n",
       "         0.0551],\n",
       "        [0.0474, 0.1000, 0.1267, 0.1209, 0.1287, 0.0488, 0.1286, 0.1287, 0.0474,\n",
       "         0.1228],\n",
       "        [0.0489, 0.1326, 0.0966, 0.1327, 0.1278, 0.0502, 0.1327, 0.1327, 0.0488,\n",
       "         0.0969],\n",
       "        [0.0445, 0.1202, 0.1134, 0.1210, 0.1210, 0.0725, 0.1209, 0.1211, 0.0445,\n",
       "         0.1208],\n",
       "        [0.0521, 0.0522, 0.0632, 0.1416, 0.1375, 0.0768, 0.1416, 0.1416, 0.0521,\n",
       "         0.1416],\n",
       "        [0.0474, 0.1237, 0.1282, 0.1289, 0.1175, 0.0474, 0.1289, 0.1289, 0.0474,\n",
       "         0.1016]])"
      ]
     },
     "execution_count": 36,
     "metadata": {},
     "output_type": "execute_result"
    }
   ],
   "source": [
    "prob = softmax(output)\n",
    "prob"
   ]
  },
  {
   "cell_type": "code",
   "execution_count": 37,
   "metadata": {},
   "outputs": [],
   "source": [
    "from torch import nn\n",
    "class Network(nn.Module):\n",
    "    def __init__(self):\n",
    "        super().__init__()\n",
    "        \n",
    "        #Input to hidden layer linear transformation\n",
    "        \n",
    "        self.hidden = nn.Linear(784,256)\n",
    "        \n",
    "        #Output layer 10 units - one for each digit\n",
    "        \n",
    "        self.output = nn.Linear(256,10)\n",
    "        \n",
    "        #define sigmoid activation and softmax output\n",
    "        \n",
    "        self.sigmoid = nn.Sigmoid()\n",
    "        self.softmax = nn.Softmax(dim = 1)\n",
    "        \n",
    "    def forward(self,x):\n",
    "        #pass the tensor input's for each of the operation\n",
    "        x = self.hidden(x)\n",
    "        x = self.sigmoid(x)\n",
    "        x = self.output(x)\n",
    "        x = self.softmax(x)\n",
    "        \n",
    "        return x"
   ]
  },
  {
   "cell_type": "code",
   "execution_count": 38,
   "metadata": {},
   "outputs": [
    {
     "data": {
      "text/plain": [
       "Network(\n",
       "  (hidden): Linear(in_features=784, out_features=256, bias=True)\n",
       "  (output): Linear(in_features=256, out_features=10, bias=True)\n",
       "  (sigmoid): Sigmoid()\n",
       "  (softmax): Softmax()\n",
       ")"
      ]
     },
     "execution_count": 38,
     "metadata": {},
     "output_type": "execute_result"
    }
   ],
   "source": [
    "model = Network()\n",
    "model"
   ]
  },
  {
   "cell_type": "code",
   "execution_count": 39,
   "metadata": {},
   "outputs": [],
   "source": [
    "import  torch.nn.functional as F\n",
    "\n",
    "class Network(nn.Module):\n",
    "    def __init__(self):\n",
    "        super().__init__()\n",
    "        \n",
    "        #Input to hidden layer linear transformation\n",
    "        \n",
    "        self.hidden = nn.Linear(784,256)\n",
    "        \n",
    "        #Output layer 10 units - one for each digit\n",
    "        \n",
    "        self.output = nn.Linear(256,10)\n",
    "        \n",
    "    def forward(self,x):\n",
    "        #pass the tensor input's for each of the operation\n",
    "        x = F.sigmoid(self.hidden(x))\n",
    "        x = F.softmax(self.output(x),dim = 1)\n",
    "        \n",
    "        return x"
   ]
  },
  {
   "cell_type": "code",
   "execution_count": 40,
   "metadata": {},
   "outputs": [
    {
     "data": {
      "text/plain": [
       "Network(\n",
       "  (hidden): Linear(in_features=784, out_features=256, bias=True)\n",
       "  (output): Linear(in_features=256, out_features=10, bias=True)\n",
       ")"
      ]
     },
     "execution_count": 40,
     "metadata": {},
     "output_type": "execute_result"
    }
   ],
   "source": [
    "model = Network()\n",
    "model"
   ]
  },
  {
   "cell_type": "code",
   "execution_count": 41,
   "metadata": {},
   "outputs": [],
   "source": [
    "class Network2(nn.Module):\n",
    "    def __init__(self):\n",
    "        super().__init__()\n",
    "        #Input to hidden layer linear transformation\n",
    "        self.hidden = nn.Linear(784,128)\n",
    "        self.hidden2 = nn.Linear(128,64)\n",
    "        #Output layer 10 units - one for each digit\n",
    "        self.output = nn.Linear(64,10)\n",
    "    def forward(self,x):\n",
    "        #pass the tensor input's for each of the operation\n",
    "        x = F.relu(self.hidden(x))\n",
    "        x = F.relu(self.hidden2(x))\n",
    "        x = F.softmax(self.output(x),dim = 1)\n",
    "        x = F.cross_entropy(x)\n",
    "        return x"
   ]
  },
  {
   "cell_type": "code",
   "execution_count": 42,
   "metadata": {},
   "outputs": [],
   "source": [
    "model = Network2()"
   ]
  },
  {
   "cell_type": "code",
   "execution_count": 43,
   "metadata": {},
   "outputs": [
    {
     "data": {
      "text/plain": [
       "Network2(\n",
       "  (hidden): Linear(in_features=784, out_features=128, bias=True)\n",
       "  (hidden2): Linear(in_features=128, out_features=64, bias=True)\n",
       "  (output): Linear(in_features=64, out_features=10, bias=True)\n",
       ")"
      ]
     },
     "execution_count": 43,
     "metadata": {},
     "output_type": "execute_result"
    }
   ],
   "source": [
    "model"
   ]
  },
  {
   "cell_type": "code",
   "execution_count": 44,
   "metadata": {},
   "outputs": [
    {
     "name": "stdout",
     "output_type": "stream",
     "text": [
      "tensor(2.2855, grad_fn=<NllLossBackward>)\n"
     ]
    }
   ],
   "source": [
    "# Build a feed-forward network\n",
    "model = nn.Sequential(nn.Linear(784, 128),\n",
    "                      nn.ReLU(),\n",
    "                      nn.Linear(128, 64),\n",
    "                      nn.ReLU(),\n",
    "                      nn.Linear(64, 10))\n",
    "\n",
    "# Define the loss\n",
    "criterion = nn.CrossEntropyLoss()\n",
    "\n",
    "# Get our data\n",
    "images, labels = next(iter(trainloader))\n",
    "# Flatten images\n",
    "images = images.view(images.shape[0], -1)\n",
    "\n",
    "# Forward pass, get our logits\n",
    "logits = model(images)\n",
    "# Calculate the loss with the logits and the labels\n",
    "loss = criterion(logits, labels)\n",
    "\n",
    "print(loss)"
   ]
  },
  {
   "cell_type": "code",
   "execution_count": 46,
   "metadata": {},
   "outputs": [
    {
     "name": "stdout",
     "output_type": "stream",
     "text": [
      "Training loss: 2.007931993460096\n",
      "Training loss: 0.9067266142126847\n",
      "Training loss: 0.525845499053947\n",
      "Training loss: 0.4324361214092545\n",
      "Training loss: 0.3873966612350712\n"
     ]
    }
   ],
   "source": [
    "from torch import optim\n",
    "model = nn.Sequential(nn.Linear(784, 128),\n",
    "                      nn.ReLU(),\n",
    "                      nn.Linear(128, 64),\n",
    "                      nn.ReLU(),\n",
    "                      nn.Linear(64, 10),\n",
    "                      nn.LogSoftmax(dim=1))\n",
    "\n",
    "criterion = nn.NLLLoss()\n",
    "optimizer = optim.SGD(model.parameters(), lr=0.003)\n",
    "\n",
    "epochs = 5\n",
    "for e in range(epochs):\n",
    "    running_loss = 0\n",
    "    for images, labels in trainloader:\n",
    "        # Flatten MNIST images into a 784 long vector\n",
    "        images = images.view(images.shape[0], -1)\n",
    "    \n",
    "        # TODO: Training pass\n",
    "        optimizer.zero_grad()\n",
    "        \n",
    "        output = model(images)\n",
    "        loss = criterion(output, labels)\n",
    "        loss.backward()\n",
    "        optimizer.step()\n",
    "        \n",
    "        running_loss += loss.item()\n",
    "    else:\n",
    "        print(f\"Training loss: {running_loss/len(trainloader)}\")"
   ]
  },
  {
   "cell_type": "code",
   "execution_count": 48,
   "metadata": {},
   "outputs": [],
   "source": [
    "from torch.autograd import Variable\n",
    "\n",
    "\n",
    "def test_network(net, trainloader):\n",
    "\n",
    "    criterion = nn.MSELoss()\n",
    "    optimizer = optim.Adam(net.parameters(), lr=0.001)\n",
    "\n",
    "    dataiter = iter(trainloader)\n",
    "    images, labels = dataiter.next()\n",
    "\n",
    "    # Create Variables for the inputs and targets\n",
    "    inputs = Variable(images)\n",
    "    targets = Variable(images)\n",
    "\n",
    "    # Clear the gradients from all Variables\n",
    "    optimizer.zero_grad()\n",
    "\n",
    "    # Forward pass, then backward pass, then update weights\n",
    "    output = net.forward(inputs)\n",
    "    loss = criterion(output, targets)\n",
    "    loss.backward()\n",
    "    optimizer.step()\n",
    "\n",
    "    return True\n",
    "\n",
    "\n",
    "def imshow(image, ax=None, title=None, normalize=True):\n",
    "    \"\"\"Imshow for Tensor.\"\"\"\n",
    "    if ax is None:\n",
    "        fig, ax = plt.subplots()\n",
    "    image = image.numpy().transpose((1, 2, 0))\n",
    "\n",
    "    if normalize:\n",
    "        mean = np.array([0.485, 0.456, 0.406])\n",
    "        std = np.array([0.229, 0.224, 0.225])\n",
    "        image = std * image + mean\n",
    "        image = np.clip(image, 0, 1)\n",
    "\n",
    "    ax.imshow(image)\n",
    "    ax.spines['top'].set_visible(False)\n",
    "    ax.spines['right'].set_visible(False)\n",
    "    ax.spines['left'].set_visible(False)\n",
    "    ax.spines['bottom'].set_visible(False)\n",
    "    ax.tick_params(axis='both', length=0)\n",
    "    ax.set_xticklabels('')\n",
    "    ax.set_yticklabels('')\n",
    "\n",
    "    return ax\n",
    "\n",
    "\n",
    "def view_recon(img, recon):\n",
    "    ''' Function for displaying an image (as a PyTorch Tensor) and its\n",
    "        reconstruction also a PyTorch Tensor\n",
    "    '''\n",
    "\n",
    "    fig, axes = plt.subplots(ncols=2, sharex=True, sharey=True)\n",
    "    axes[0].imshow(img.numpy().squeeze())\n",
    "    axes[1].imshow(recon.data.numpy().squeeze())\n",
    "    for ax in axes:\n",
    "        ax.axis('off')\n",
    "        ax.set_adjustable('box-forced')\n",
    "\n",
    "def view_classify(img, ps, version=\"MNIST\"):\n",
    "    ''' Function for viewing an image and it's predicted classes.\n",
    "    '''\n",
    "    ps = ps.data.numpy().squeeze()\n",
    "\n",
    "    fig, (ax1, ax2) = plt.subplots(figsize=(6,9), ncols=2)\n",
    "    ax1.imshow(img.resize_(1, 28, 28).numpy().squeeze())\n",
    "    ax1.axis('off')\n",
    "    ax2.barh(np.arange(10), ps)\n",
    "    ax2.set_aspect(0.1)\n",
    "    ax2.set_yticks(np.arange(10))\n",
    "    if version == \"MNIST\":\n",
    "        ax2.set_yticklabels(np.arange(10))\n",
    "    elif version == \"Fashion\":\n",
    "        ax2.set_yticklabels(['T-shirt/top',\n",
    "                            'Trouser',\n",
    "                            'Pullover',\n",
    "                            'Dress',\n",
    "                            'Coat',\n",
    "                            'Sandal',\n",
    "                            'Shirt',\n",
    "                            'Sneaker',\n",
    "                            'Bag',\n",
    "                            'Ankle Boot'], size='small');\n",
    "    ax2.set_title('Class Probability')\n",
    "    ax2.set_xlim(0, 1.1)\n",
    "\n",
    "    plt.tight_layout()"
   ]
  },
  {
   "cell_type": "code",
   "execution_count": 55,
   "metadata": {},
   "outputs": [
    {
     "data": {
      "image/png": "[encoded data removed]",
      "text/plain": [
       "<Figure size 432x648 with 2 Axes>"
      ]
     },
     "metadata": {
      "needs_background": "light"
     },
     "output_type": "display_data"
    }
   ],
   "source": [
    "%matplotlib inline\n",
    "\n",
    "images, labels = next(iter(trainloader))\n",
    "\n",
    "img = images[3].view(1, 784)\n",
    "# Turn off gradients to speed up this part\n",
    "with torch.no_grad():\n",
    "    logps = model(img)\n",
    "\n",
    "# Output of the network are log-probabilities, need to take exponential for probabilities\n",
    "ps = torch.exp(logps)\n",
    "view_classify(img.view(1, 28, 28), ps)"
   ]
  },
  {
   "cell_type": "code",
   "execution_count": null,
   "metadata": {},
   "outputs": [],
   "source": []
  }
 ],
 "metadata": {
  "kernelspec": {
   "display_name": "Python 3",
   "language": "python",
   "name": "python3"
  },
  "language_info": {
   "codemirror_mode": {
    "name": "ipython",
    "version": 3
   },
   "file_extension": ".py",
   "mimetype": "text/x-python",
   "name": "python",
   "nbconvert_exporter": "python",
   "pygments_lexer": "ipython3",
   "version": "3.6.8"
  }
 },
 "nbformat": 4,
 "nbformat_minor": 2
}
